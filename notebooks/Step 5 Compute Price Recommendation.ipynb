{
 "cells": [
  {
   "cell_type": "markdown",
   "metadata": {},
   "source": [
    "# imports"
   ]
  },
  {
   "cell_type": "code",
   "execution_count": null,
   "metadata": {},
   "outputs": [],
   "source": [
    "import pysubgroup as ps\n",
    "import pandas as pd\n",
    "import numpy as np\n",
    "import import_ipynb\n",
    "import pickle\n",
    "pd.set_option('display.float_format', lambda x: '%.3f' % x)"
   ]
  },
  {
   "cell_type": "code",
   "execution_count": null,
   "metadata": {},
   "outputs": [],
   "source": [
    "usa_order_data = pd.read_pickle('AggregatedDataUSA.pkl')\n",
    "eu_order_data = pd.read_pickle('AggregatedDataEU.pkl')\n",
    "apa_order_data = pd.read_pickle('AggregatedDataAPA.pkl')\n"
   ]
  },
  {
   "cell_type": "code",
   "execution_count": null,
   "metadata": {},
   "outputs": [],
   "source": [
    "usa_dms_df = pd.read_pickle('prediction_results_usa.pkl')\n",
    "apa_dms_df = pd.read_pickle('prediction_results_apa.pkl')\n",
    "eu_dms_df = pd.read_pickle('prediction_results_eu.pkl')"
   ]
  },
  {
   "cell_type": "code",
   "execution_count": null,
   "metadata": {},
   "outputs": [],
   "source": [
    "# load inflation to get I0/I1\n",
    "inflation_df = pd.read_csv('df_inflation.csv') "
   ]
  },
  {
   "cell_type": "markdown",
   "metadata": {},
   "source": [
    "# function imports"
   ]
  },
  {
   "cell_type": "code",
   "execution_count": null,
   "metadata": {},
   "outputs": [],
   "source": [
    "from functions_definitions import calculate_max_increase \n",
    "from functions_definitions import rec_for_row\n",
    "from functions_definitions import est_qty_per_row\n",
    "from functions_definitions import profit_check_row"
   ]
  },
  {
   "cell_type": "markdown",
   "metadata": {},
   "source": [
    "# Get features for price calculation"
   ]
  },
  {
   "cell_type": "code",
   "execution_count": null,
   "metadata": {},
   "outputs": [],
   "source": [
    "eu_order_data['MaxIncrease'] = eu_order_data['CurrentGLP'].apply(calculate_max_increase)\n",
    "usa_order_data['MaxIncrease'] = usa_order_data['CurrentGLP'].apply(calculate_max_increase)\n",
    "apa_order_data['MaxIncrease'] = apa_order_data['CurrentGLP'].apply(calculate_max_increase)"
   ]
  },
  {
   "cell_type": "code",
   "execution_count": null,
   "metadata": {},
   "outputs": [],
   "source": [
    "weird_prices_eu = eu_order_data[eu_order_data['MaxIncrease'] > 3]\n",
    "weird_prices_usa = usa_order_data[usa_order_data['MaxIncrease'] > 3]\n",
    "weird_prices_apa = apa_order_data[apa_order_data['MaxIncrease'] > 3]"
   ]
  },
  {
   "cell_type": "code",
   "execution_count": null,
   "metadata": {},
   "outputs": [],
   "source": [
    "eu_last_glp_series = (\n",
    "    eu_order_data\n",
    "    .groupby('ItemNumber')['CurrentGLP']\n",
    "    .last()                             # get the last array per item\n",
    "    .apply(lambda arr: arr[-1] if isinstance(arr, (list, np.ndarray)) and len(arr) > 0 else np.nan)\n",
    "    .rename('LastGLP')\n",
    "    .reset_index()\n",
    ")"
   ]
  },
  {
   "cell_type": "code",
   "execution_count": null,
   "metadata": {},
   "outputs": [],
   "source": [
    "apa_last_glp_series = (\n",
    "    apa_order_data\n",
    "    .groupby('ItemNumber')['CurrentGLP']\n",
    "    .last()                             # get the last array per item\n",
    "    .apply(lambda arr: arr[-1] if isinstance(arr, (list, np.ndarray)) and len(arr) > 0 else np.nan)\n",
    "    .rename('LastGLP')\n",
    "    .reset_index()\n",
    ")"
   ]
  },
  {
   "cell_type": "code",
   "execution_count": null,
   "metadata": {},
   "outputs": [],
   "source": [
    "usa_last_glp_series = (\n",
    "    usa_order_data\n",
    "    .groupby('ItemNumber')['CurrentGLP']\n",
    "    .last()                             # get the last array per item\n",
    "    .apply(lambda arr: arr[-1] if isinstance(arr, (list, np.ndarray)) and len(arr) > 0 else np.nan)\n",
    "    .rename('LastGLP')\n",
    "    .reset_index()\n",
    ")"
   ]
  },
  {
   "cell_type": "code",
   "execution_count": null,
   "metadata": {},
   "outputs": [],
   "source": [
    "eu_last_q_series = (\n",
    "    eu_order_data\n",
    "    .groupby('ItemNumber')['CurrentQuantity']\n",
    "    .last()                             # get the last array per item\n",
    "    .apply(lambda arr: arr[-1] if isinstance(arr, (list, np.ndarray)) and len(arr) > 0 else np.nan)\n",
    "    .round(0)\n",
    "    .rename('LastQty')\n",
    "    .reset_index()\n",
    ")"
   ]
  },
  {
   "cell_type": "code",
   "execution_count": null,
   "metadata": {},
   "outputs": [],
   "source": [
    "usa_last_q_series = (\n",
    "    usa_order_data\n",
    "    .groupby('ItemNumber')['CurrentQuantity']\n",
    "    .last()                             # get the last array per item\n",
    "    .apply(lambda arr: arr[-1] if isinstance(arr, (list, np.ndarray)) and len(arr) > 0 else np.nan)\n",
    "    .round(0)\n",
    "    .rename('LastQty')\n",
    "    .reset_index()\n",
    ")"
   ]
  },
  {
   "cell_type": "code",
   "execution_count": null,
   "metadata": {},
   "outputs": [],
   "source": [
    "apa_last_q_series = (\n",
    "    apa_order_data\n",
    "    .groupby('ItemNumber')['CurrentQuantity']\n",
    "    .last()                             # get the last array per item\n",
    "    .apply(lambda arr: arr[-1] if isinstance(arr, (list, np.ndarray)) and len(arr) > 0 else np.nan)\n",
    "    .round(0)\n",
    "    .rename('LastQty')\n",
    "    .reset_index()\n",
    ")"
   ]
  },
  {
   "cell_type": "code",
   "execution_count": null,
   "metadata": {},
   "outputs": [],
   "source": [
    "eu_merged_df = eu_dms_df.merge(eu_last_glp_series, on='ItemNumber', how='left')\n",
    "usa_merged_df = usa_dms_df.merge(usa_last_glp_series, on='ItemNumber', how='left')\n",
    "apa_merged_df = apa_dms_df.merge(apa_last_glp_series, on='ItemNumber', how='left')"
   ]
  },
  {
   "cell_type": "code",
   "execution_count": null,
   "metadata": {},
   "outputs": [],
   "source": [
    "eu_merged_df = eu_merged_df.merge(eu_last_q_series, on='ItemNumber', how='left')\n",
    "usa_merged_df = usa_merged_df.merge(usa_last_q_series, on='ItemNumber', how='left')\n",
    "apa_merged_df = apa_merged_df.merge(apa_last_q_series, on='ItemNumber', how='left')"
   ]
  },
  {
   "cell_type": "code",
   "execution_count": null,
   "metadata": {},
   "outputs": [],
   "source": [
    "eu_merged_df = eu_merged_df.merge(\n",
    "    eu_order_data[['ItemNumber', 'MaxIncrease']],\n",
    "    on='ItemNumber',\n",
    "    how='left'\n",
    ")"
   ]
  },
  {
   "cell_type": "code",
   "execution_count": null,
   "metadata": {},
   "outputs": [],
   "source": [
    "usa_merged_df = usa_merged_df.merge(\n",
    "    usa_order_data[['ItemNumber', 'MaxIncrease']],\n",
    "    on='ItemNumber',\n",
    "    how='left'\n",
    ")"
   ]
  },
  {
   "cell_type": "code",
   "execution_count": null,
   "metadata": {},
   "outputs": [],
   "source": [
    "apa_merged_df = apa_merged_df.merge(\n",
    "    apa_order_data[['ItemNumber', 'MaxIncrease']],\n",
    "    on='ItemNumber',\n",
    "    how='left'\n",
    ")"
   ]
  },
  {
   "cell_type": "code",
   "execution_count": null,
   "metadata": {},
   "outputs": [],
   "source": [
    "eu_merged_df['Predicted PE'] = eu_merged_df['Predicted PE'].clip(-100, 100)\n",
    "usa_merged_df['Predicted PE'] = usa_merged_df['Predicted PE'].clip(-100, 100)\n",
    "apa_merged_df['Predicted PE'] = apa_merged_df['Predicted PE'].clip(-100, 100)"
   ]
  },
  {
   "cell_type": "markdown",
   "metadata": {},
   "source": [
    "# Load inflation"
   ]
  },
  {
   "cell_type": "markdown",
   "metadata": {},
   "source": [
    "Change the filtering to reflect the current inflation index and previous inflation index. "
   ]
  },
  {
   "cell_type": "code",
   "execution_count": null,
   "metadata": {},
   "outputs": [],
   "source": [
    "# Filter the dataframe for the specified date range\n",
    "inflation_2h_2024 = inflation_df[(inflation_df['DATE'] >= '2024-07-01') & (inflation_df['DATE'] <= '2024-12-31')]\n",
    "\n",
    "# Calculate the average of InflationIndex\n",
    "i0 = inflation_2h_2024['InflationIndex'].mean()\n",
    "i0"
   ]
  },
  {
   "cell_type": "code",
   "execution_count": null,
   "metadata": {},
   "outputs": [],
   "source": [
    "\n",
    "inflation_1h_2025 = inflation_df[(inflation_df['DATE'] >= '2025-01-01') & (inflation_df['DATE'] <= '2025-07-01')]\n",
    "# Calculate the average of InflationIndex\n",
    "i1 = inflation_1h_2025['InflationIndex'].mean()\n",
    "i1"
   ]
  },
  {
   "cell_type": "code",
   "execution_count": null,
   "metadata": {},
   "outputs": [],
   "source": [
    "r = i1 / i0\n",
    "switch_point = 1.0 / (1.0 - 2.0 * r**2)"
   ]
  },
  {
   "cell_type": "markdown",
   "metadata": {},
   "source": [
    "# Compute Recommended Prices"
   ]
  },
  {
   "cell_type": "code",
   "execution_count": null,
   "metadata": {},
   "outputs": [],
   "source": [
    "eu_merged_df['Recommended GLP'] = eu_merged_df.apply(rec_for_row, axis=1, args=(i0, i1, 0.01))\n",
    "usa_merged_df['Recommended GLP'] = usa_merged_df.apply(rec_for_row, axis=1, args=(i0, i1, 0.01))\n",
    "apa_merged_df['Recommended GLP'] = apa_merged_df.apply(rec_for_row, axis=1, args=(i0, i1, 0.01))"
   ]
  },
  {
   "cell_type": "code",
   "execution_count": null,
   "metadata": {},
   "outputs": [],
   "source": [
    "eu_merged_df[\"RecommendationCategory\"] = np.where(\n",
    "    eu_merged_df['Predicted PE'] < switch_point,\n",
    "    'Decrease',\n",
    "    np.where(\n",
    "        eu_merged_df['Predicted PE'] < 0,\n",
    "        'Keep Inflation',\n",
    "        'Raise'\n",
    "    )\n",
    ")"
   ]
  },
  {
   "cell_type": "code",
   "execution_count": null,
   "metadata": {},
   "outputs": [],
   "source": [
    "usa_merged_df[\"RecommendationCategory\"] = np.where(\n",
    "    usa_merged_df['Predicted PE'] < switch_point,\n",
    "    'Decrease',\n",
    "    np.where(\n",
    "        usa_merged_df['Predicted PE'] < 0,\n",
    "        'Keep Inflation',\n",
    "        'Raise'\n",
    "    )\n",
    ")"
   ]
  },
  {
   "cell_type": "code",
   "execution_count": null,
   "metadata": {},
   "outputs": [],
   "source": [
    "apa_merged_df[\"RecommendationCategory\"] = np.where(\n",
    "    apa_merged_df['Predicted PE'] < switch_point,\n",
    "    'Decrease',\n",
    "    np.where(\n",
    "        apa_merged_df['Predicted PE'] < 0,\n",
    "        'Keep Inflation',\n",
    "        'Raise'\n",
    "    )\n",
    ")"
   ]
  },
  {
   "cell_type": "markdown",
   "metadata": {},
   "source": [
    "# Compute Uplift"
   ]
  },
  {
   "cell_type": "code",
   "execution_count": null,
   "metadata": {},
   "outputs": [],
   "source": [
    "eu_merged_df['EstQty'] = eu_merged_df.apply(est_qty_per_row, axis=1, args=(i0, i1))\n",
    "usa_merged_df['EstQty'] = usa_merged_df.apply(est_qty_per_row, axis=1, args=(i0, i1))\n",
    "apa_merged_df['EstQty'] = apa_merged_df.apply(est_qty_per_row, axis=1, args=(i0, i1))"
   ]
  },
  {
   "cell_type": "code",
   "execution_count": null,
   "metadata": {},
   "outputs": [],
   "source": [
    "usa_merged_df['EstQty'] = usa_merged_df.apply(est_qty_per_row, axis=1, args=(i0, i1))\n",
    "usa_merged_df['Uplift'] = usa_merged_df.apply(profit_check_row, axis=1, args=())\n",
    "usa_price_recs_safe = usa_merged_df[~usa_merged_df['ItemNumber'].isin(weird_prices_usa['ItemNumber'])]"
   ]
  },
  {
   "cell_type": "code",
   "execution_count": null,
   "metadata": {},
   "outputs": [],
   "source": [
    "eu_merged_df['Uplift'] = eu_merged_df.apply(profit_check_row, axis=1, args=())\n",
    "usa_merged_df['Uplift'] = usa_merged_df.apply(profit_check_row, axis=1, args=())\n",
    "apa_merged_df['Uplift'] = apa_merged_df.apply(profit_check_row, axis=1, args=())"
   ]
  },
  {
   "cell_type": "code",
   "execution_count": null,
   "metadata": {},
   "outputs": [],
   "source": [
    "eu_price_recs_safe = eu_merged_df[~eu_merged_df['ItemNumber'].isin(weird_prices_eu['ItemNumber'])]\n",
    "usa_price_recs_safe = usa_merged_df[~usa_merged_df['ItemNumber'].isin(weird_prices_usa['ItemNumber'])]\n",
    "apa_price_recs_safe = apa_merged_df[~apa_merged_df['ItemNumber'].isin(weird_prices_apa['ItemNumber'])]"
   ]
  },
  {
   "cell_type": "code",
   "execution_count": null,
   "metadata": {},
   "outputs": [],
   "source": [
    "eu_price_recs_safe[\"NewTotal\"] = eu_price_recs_safe['Recommended GLP'] * eu_price_recs_safe['EstQty']\n",
    "eu_price_recs_safe[\"LastTotal\"] = eu_price_recs_safe['LastGLP'] * eu_price_recs_safe['LastQty']\n",
    "eu_price_recs_safe[\"PercUplift\"] =  eu_price_recs_safe[\"Uplift\"]/ eu_price_recs_safe[\"LastTotal\"]*100\n",
    "eu_price_recs_safe[\"PercUplift\"] = eu_price_recs_safe[\"PercUplift\"].clip(upper=300)\n",
    "eu_price_recs_safe[\"UpliftClipped\"] = eu_price_recs_safe[\"PercUplift\"] * eu_price_recs_safe[\"LastTotal\"] / 100\n",
    "eu_price_recs_safe[\"NewTotalClipped\"] = eu_price_recs_safe[\"LastTotal\"] + eu_price_recs_safe[\"UpliftClipped\"]\n",
    "eu_price_recs_safe[\"EstQtyClipped\"] = eu_price_recs_safe[\"NewTotalClipped\"] / eu_price_recs_safe[\"Recommended GLP\"]\n",
    "eu_price_recs_safe[\"UpliftClipped\"] = eu_price_recs_safe[\"UpliftClipped\"].round(4)\n",
    "eu_price_recs_safe[\"Uplift\"] = eu_price_recs_safe[\"Uplift\"].round(4)\n",
    "eu_price_recs_safe[\"NewTotalClipped\"] = eu_price_recs_safe[\"NewTotalClipped\"].round(4)\n",
    "eu_price_recs_safe[\"NewTotal\"] = eu_price_recs_safe[\"NewTotal\"].round(4)\n",
    "eu_price_recs_safe[\"EstQtyClipped\"] = eu_price_recs_safe[\"EstQtyClipped\"].round(4)\n",
    "eu_price_recs_safe[\"EstQty\"] = eu_price_recs_safe[\"EstQty\"].round(4)"
   ]
  },
  {
   "cell_type": "code",
   "execution_count": null,
   "metadata": {},
   "outputs": [],
   "source": [
    "apa_price_recs_safe[\"NewTotal\"] = apa_price_recs_safe['Recommended GLP'] * apa_price_recs_safe['EstQty']\n",
    "apa_price_recs_safe[\"LastTotal\"] = apa_price_recs_safe['LastGLP'] * apa_price_recs_safe['LastQty']\n",
    "apa_price_recs_safe[\"PercUplift\"] =  apa_price_recs_safe[\"Uplift\"]/ apa_price_recs_safe[\"LastTotal\"]*100\n",
    "apa_price_recs_safe[\"PercUplift\"] = apa_price_recs_safe[\"PercUplift\"].clip(upper=300)\n",
    "apa_price_recs_safe[\"UpliftClipped\"] = apa_price_recs_safe[\"PercUplift\"] * apa_price_recs_safe[\"LastTotal\"] / 100\n",
    "apa_price_recs_safe[\"NewTotalClipped\"] = apa_price_recs_safe[\"LastTotal\"] + apa_price_recs_safe[\"UpliftClipped\"]\n",
    "apa_price_recs_safe[\"EstQtyClipped\"] = apa_price_recs_safe[\"NewTotalClipped\"] / apa_price_recs_safe[\"Recommended GLP\"]\n",
    "apa_price_recs_safe[\"UpliftClipped\"] = apa_price_recs_safe[\"UpliftClipped\"].round(4)\n",
    "apa_price_recs_safe[\"Uplift\"] = apa_price_recs_safe[\"Uplift\"].round(4)\n",
    "apa_price_recs_safe[\"NewTotalClipped\"] = apa_price_recs_safe[\"NewTotalClipped\"].round(4)\n",
    "apa_price_recs_safe[\"NewTotal\"] = apa_price_recs_safe[\"NewTotal\"].round(4)\n",
    "apa_price_recs_safe[\"EstQtyClipped\"] = apa_price_recs_safe[\"EstQtyClipped\"].round(4)\n",
    "apa_price_recs_safe[\"EstQty\"] = apa_price_recs_safe[\"EstQty\"].round(4)"
   ]
  },
  {
   "cell_type": "code",
   "execution_count": null,
   "metadata": {},
   "outputs": [],
   "source": [
    "usa_price_recs_safe[\"NewTotal\"] = usa_price_recs_safe['Recommended GLP'] * usa_price_recs_safe['EstQty']\n",
    "usa_price_recs_safe[\"LastTotal\"] = usa_price_recs_safe['LastGLP'] * usa_price_recs_safe['LastQty']\n",
    "usa_price_recs_safe[\"PercUplift\"] =  usa_price_recs_safe[\"Uplift\"]/ usa_price_recs_safe[\"LastTotal\"]*100\n",
    "usa_price_recs_safe[\"PercUplift\"] = usa_price_recs_safe[\"PercUplift\"].clip(upper=300)\n",
    "usa_price_recs_safe[\"UpliftClipped\"] = usa_price_recs_safe[\"PercUplift\"] * usa_price_recs_safe[\"LastTotal\"] / 100\n",
    "usa_price_recs_safe[\"NewTotalClipped\"] = usa_price_recs_safe[\"LastTotal\"] + usa_price_recs_safe[\"UpliftClipped\"]\n",
    "usa_price_recs_safe[\"EstQtyClipped\"] = usa_price_recs_safe[\"NewTotalClipped\"] / usa_price_recs_safe[\"Recommended GLP\"]\n",
    "usa_price_recs_safe[\"UpliftClipped\"] = usa_price_recs_safe[\"UpliftClipped\"].round(4)\n",
    "usa_price_recs_safe[\"Uplift\"] = usa_price_recs_safe[\"Uplift\"].round(4)\n",
    "usa_price_recs_safe[\"NewTotalClipped\"] = usa_price_recs_safe[\"NewTotalClipped\"].round(4)\n",
    "usa_price_recs_safe[\"NewTotal\"] = usa_price_recs_safe[\"NewTotal\"].round(4)\n",
    "usa_price_recs_safe[\"EstQtyClipped\"] = usa_price_recs_safe[\"EstQtyClipped\"].round(4)\n",
    "usa_price_recs_safe[\"EstQty\"] = usa_price_recs_safe[\"EstQty\"].round(4)"
   ]
  },
  {
   "cell_type": "markdown",
   "metadata": {},
   "source": [
    "# Save Results"
   ]
  },
  {
   "cell_type": "code",
   "execution_count": null,
   "metadata": {},
   "outputs": [],
   "source": [
    "eu_price_recs_safe.to_excel('eu_processed_recommendation.xlsx', index=False)\n",
    "usa_price_recs_safe.to_excel('usa_processed_recommendation.xlsx', index=False)\n",
    "apa_price_recs_safe.to_excel('apa_processed_recommendation.xlsx', index=False) "
   ]
  }
 ],
 "metadata": {
  "kernelspec": {
   "display_name": "Python 3",
   "language": "python",
   "name": "python3"
  },
  "language_info": {
   "codemirror_mode": {
    "name": "ipython",
    "version": 3
   },
   "file_extension": ".py",
   "mimetype": "text/x-python",
   "name": "python",
   "nbconvert_exporter": "python",
   "pygments_lexer": "ipython3",
   "version": "3.13.1"
  }
 },
 "nbformat": 4,
 "nbformat_minor": 2
}
